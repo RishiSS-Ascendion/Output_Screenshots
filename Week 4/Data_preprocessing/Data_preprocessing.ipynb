{
  "nbformat": 4,
  "nbformat_minor": 0,
  "metadata": {
    "colab": {
      "provenance": []
    },
    "kernelspec": {
      "name": "python3",
      "display_name": "Python 3"
    },
    "language_info": {
      "name": "python"
    }
  },
  "cells": [
    {
      "cell_type": "code",
      "execution_count": 4,
      "metadata": {
        "colab": {
          "base_uri": "https://localhost:8080/"
        },
        "id": "xEoZPJw3Tv7b",
        "outputId": "1f59f001-3709-412d-c1b6-0099d29fbcee"
      },
      "outputs": [
        {
          "output_type": "stream",
          "name": "stderr",
          "text": [
            "[nltk_data] Downloading package punkt to /root/nltk_data...\n",
            "[nltk_data]   Package punkt is already up-to-date!\n",
            "[nltk_data] Downloading package stopwords to /root/nltk_data...\n",
            "[nltk_data]   Package stopwords is already up-to-date!\n",
            "[nltk_data] Downloading package wordnet to /root/nltk_data...\n",
            "[nltk_data]   Package wordnet is already up-to-date!\n",
            "[nltk_data] Downloading package punkt_tab to /root/nltk_data...\n",
            "[nltk_data]   Unzipping tokenizers/punkt_tab.zip.\n"
          ]
        },
        {
          "output_type": "stream",
          "name": "stdout",
          "text": [
            "NLTK Tokenized Words: ['nike', 'american', 'multinational', 'corporation', 'engaged', 'design', 'development', 'manufacturing', 'worldwide', 'marketing', 'sales', 'footwear', 'apparel', 'equipment', 'accessories', 'services', 'company', 'headquartered', 'near', 'beaverton', 'oregon', 'portland', 'metropolitan', 'area', 'one', 'world', 'largest', 'suppliers', 'athletic', 'shoes', 'apparel', 'major', 'manufacturer', 'sports', 'equipment', 'nike', 'sponsors', 'many', 'athletes', 'sports', 'teams', 'around', 'world', 'brand', 'recognized', 'globally', 'company', 'founded', 'january', '25', '1964', 'blue', 'ribbon', 'sports', 'officially', 'became', 'nike', '1971', 'nike', 'mission', 'statement', 'bring', 'inspiration', 'innovation', 'every', 'athlete', 'world']\n",
            "Stemmed Words: ['nike', 'american', 'multin', 'corpor', 'engag', 'design', 'develop', 'manufactur', 'worldwid', 'market', 'sale', 'footwear', 'apparel', 'equip', 'accessori', 'servic', 'compani', 'headquart', 'near', 'beaverton', 'oregon', 'portland', 'metropolitan', 'area', 'one', 'world', 'largest', 'supplier', 'athlet', 'shoe', 'apparel', 'major', 'manufactur', 'sport', 'equip', 'nike', 'sponsor', 'mani', 'athlet', 'sport', 'team', 'around', 'world', 'brand', 'recogn', 'global', 'compani', 'found', 'januari', '25', '1964', 'blue', 'ribbon', 'sport', 'offici', 'becam', 'nike', '1971', 'nike', 'mission', 'statement', 'bring', 'inspir', 'innov', 'everi', 'athlet', 'world']\n",
            "Lemmatized Words: ['nike', 'american', 'multinational', 'corporation', 'engaged', 'design', 'development', 'manufacturing', 'worldwide', 'marketing', 'sale', 'footwear', 'apparel', 'equipment', 'accessory', 'service', 'company', 'headquartered', 'near', 'beaverton', 'oregon', 'portland', 'metropolitan', 'area', 'one', 'world', 'largest', 'supplier', 'athletic', 'shoe', 'apparel', 'major', 'manufacturer', 'sport', 'equipment', 'nike', 'sponsor', 'many', 'athlete', 'sport', 'team', 'around', 'world', 'brand', 'recognized', 'globally', 'company', 'founded', 'january', '25', '1964', 'blue', 'ribbon', 'sport', 'officially', 'became', 'nike', '1971', 'nike', 'mission', 'statement', 'bring', 'inspiration', 'innovation', 'every', 'athlete', 'world']\n",
            "spaCy Processed Tokens: ['nike', 'american', 'multinational', 'corporation', 'engage', 'design', 'development', 'manufacturing', 'worldwide', 'marketing', 'sale', 'footwear', 'apparel', 'equipment', 'accessory', 'service', 'company', 'headquarter', 'near', 'beaverton', 'oregon', 'portland', 'metropolitan', 'area', 'world', 'large', 'supplier', 'athletic', 'shoe', 'apparel', 'major', 'manufacturer', 'sport', 'equipment', 'nike', 'sponsor', 'high', 'profile', 'athlete', 'sport', 'team', 'world', 'brand', 'recognize', 'globally', 'company', 'found', 'january', 'blue', 'ribbon', 'sports', 'officially', 'nike', 'nike', 'mission', 'statement', 'bring', 'inspiration', 'innovation', 'athlete', 'world']\n",
            "Named Entities: [('Nike, Inc.', 'ORG'), ('American', 'NORP'), ('Beaverton', 'GPE'), ('Oregon', 'GPE'), ('Portland', 'GPE'), ('Nike', 'ORG'), ('January 25, 1964', 'DATE'), ('Blue Ribbon Sports', 'ORG'), ('Nike, Inc.', 'ORG'), ('1971', 'DATE'), ('Nike', 'ORG')]\n"
          ]
        }
      ],
      "source": [
        "# Install required libraries (if not already installed)\n",
        "# !pip install nltk spacy\n",
        "# !python -m spacy download en_core_web_sm\n",
        "\n",
        "import nltk\n",
        "import spacy\n",
        "from nltk.corpus import stopwords\n",
        "from nltk.tokenize import word_tokenize, sent_tokenize\n",
        "from nltk.stem import PorterStemmer, WordNetLemmatizer\n",
        "import string\n",
        "\n",
        "# Load spaCy English model\n",
        "nlp = spacy.load('en_core_web_sm')\n",
        "\n",
        "# Sample Raw Text\n",
        "raw_text = \"\"\"\n",
        "Nike, Inc. is an American multinational corporation that is engaged in the design, development, manufacturing,\n",
        "and worldwide marketing and sales of footwear, apparel, equipment, accessories, and services. The company is\n",
        "headquartered near Beaverton, Oregon, in the Portland metropolitan area. It is one of the world's largest\n",
        "suppliers of athletic shoes and apparel and a major manufacturer of sports equipment. Nike sponsors many high-profile\n",
        "athletes and sports teams around the world, and its brand is recognized globally. The company was founded on\n",
        "January 25, 1964, as Blue Ribbon Sports and officially became Nike, Inc. in 1971. Nike's mission statement is\n",
        "“To bring inspiration and innovation to every athlete in the world.”\n",
        "\"\"\"\n",
        "\n",
        "# ---------------- NLTK Preprocessing ----------------\n",
        "\n",
        "# Download necessary NLTK data\n",
        "nltk.download('punkt')\n",
        "nltk.download('stopwords')\n",
        "nltk.download('wordnet')\n",
        "nltk.download('punkt_tab') # Download punkt_tab explicitly\n",
        "\n",
        "# 1. Tokenization\n",
        "sentences = sent_tokenize(raw_text)\n",
        "words = word_tokenize(raw_text)\n",
        "\n",
        "# 2. Convert to lowercase\n",
        "words = [word.lower() for word in words]\n",
        "\n",
        "# 3. Remove punctuation\n",
        "words = [word for word in words if word.isalnum()]\n",
        "\n",
        "# 4. Remove stopwords\n",
        "stop_words = set(stopwords.words('english'))\n",
        "words = [word for word in words if word not in stop_words]\n",
        "\n",
        "# 5. Stemming\n",
        "ps = PorterStemmer()\n",
        "stemmed_words = [ps.stem(word) for word in words]\n",
        "\n",
        "# 6. Lemmatization\n",
        "lemmatizer = WordNetLemmatizer()\n",
        "lemmatized_words = [lemmatizer.lemmatize(word) for word in words]\n",
        "\n",
        "print(\"NLTK Tokenized Words:\", words)\n",
        "print(\"Stemmed Words:\", stemmed_words)\n",
        "print(\"Lemmatized Words:\", lemmatized_words)\n",
        "\n",
        "# ---------------- spaCy Preprocessing ----------------\n",
        "\n",
        "doc = nlp(raw_text)\n",
        "\n",
        "# Tokenization, Lowercasing, Removing stopwords and punctuation\n",
        "spacy_tokens = [token.lemma_.lower() for token in doc if not token.is_stop and token.is_alpha]\n",
        "\n",
        "# Named Entity Recognition (Optional)\n",
        "entities = [(ent.text, ent.label_) for ent in doc.ents]\n",
        "\n",
        "print(\"spaCy Processed Tokens:\", spacy_tokens)\n",
        "print(\"Named Entities:\", entities)"
      ]
    }
  ]
}